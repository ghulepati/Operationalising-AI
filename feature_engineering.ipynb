{
 "cells": [
  {
   "cell_type": "code",
   "execution_count": null,
   "id": "2658eeee-d016-4512-bae8-1f8cf902cc2d",
   "metadata": {},
   "outputs": [],
   "source": [
    "Sai Ghule\n"
   ]
  },
  {
   "cell_type": "raw",
   "id": "1e7734d9-485d-44eb-85ff-94d8f3b15d85",
   "metadata": {},
   "source": [
    "Phase 3"
   ]
  },
  {
   "cell_type": "raw",
   "id": "ddff1a7b-7334-4fa9-9ce8-72388661fa83",
   "metadata": {},
   "source": [
    "1. Feature Engineering"
   ]
  },
  {
   "cell_type": "code",
   "execution_count": 38,
   "id": "e6582e45-2619-41f3-92e1-a52f0723334f",
   "metadata": {},
   "outputs": [
    {
     "name": "stdout",
     "output_type": "stream",
     "text": [
      "The history saving thread hit an unexpected error (OperationalError('attempt to write a readonly database')).History will not be written to the database.\n"
     ]
    }
   ],
   "source": [
    "import pandas as pd\n",
    "import numpy as np\n",
    "from sklearn.preprocessing import StandardScaler"
   ]
  },
  {
   "cell_type": "raw",
   "id": "9611605f-39e5-45e8-9e53-359f0d71affb",
   "metadata": {},
   "source": [
    "# From our visualizations notebook we saved our processed data fram in after_eda_traffic_flow_data.csv. We need to retrieve that to work on the feature selection for the same."
   ]
  },
  {
   "cell_type": "code",
   "execution_count": 39,
   "id": "5c7d6aae-76db-44ef-bcf0-5cb8f03424c8",
   "metadata": {},
   "outputs": [],
   "source": [
    "# Load the saved data\n",
    "\n",
    "df = pd.read_csv('after_eda_traffic_flow_data.csv', index_col='timestamp', parse_dates=True)"
   ]
  },
  {
   "cell_type": "code",
   "execution_count": 40,
   "id": "7172d637-6192-4abc-b422-a920e6467bdc",
   "metadata": {},
   "outputs": [],
   "source": [
    "# Create time-based features\n",
    "\n",
    "df['hour'] = df.index.hour\n",
    "df['day_of_week'] = df.index.dayofweek\n",
    "df['is_weekend'] = df['day_of_week'].isin([5, 6]).astype(int)"
   ]
  },
  {
   "cell_type": "raw",
   "id": "a3726a09-11ec-4c3d-8361-089b7393c795",
   "metadata": {},
   "source": [
    "# Feature Selection - \n",
    "\n",
    "1. hour - Captures daily traffic patterns observed\n",
    "2. day_of_week - Accounts for weekly patterns\n",
    "3. is_weekend - Distinguishes between weekday and weekend patterns\n",
    "4. rolling_mean_24h - Smooths out short-term fluctuations and captures daily trends\n",
    "5. lag_24h - Incorporates information from the same time on the previous day\n"
   ]
  },
  {
   "cell_type": "code",
   "execution_count": 41,
   "id": "183291bb-8db3-494d-8859-4e56a50b4bf4",
   "metadata": {},
   "outputs": [],
   "source": [
    "# Create rolling averages\n",
    "df['rolling_mean_24h'] = df['average'].rolling(window=24).mean()"
   ]
  },
  {
   "cell_type": "code",
   "execution_count": 42,
   "id": "1e3eaf1b-bb74-467b-8163-a9955470a3a2",
   "metadata": {},
   "outputs": [],
   "source": [
    "# Create lag features\n",
    "df['lag_24h'] = df['average'].shift(24)"
   ]
  },
  {
   "cell_type": "code",
   "execution_count": 43,
   "id": "dbe51b42-a5f0-4c14-a4cb-e8faba084a7d",
   "metadata": {},
   "outputs": [],
   "source": [
    "# Handle missing values\n",
    "df.dropna(inplace=True)"
   ]
  },
  {
   "cell_type": "code",
   "execution_count": 44,
   "id": "598ea8fd-763e-402e-82a9-b7258709421a",
   "metadata": {},
   "outputs": [],
   "source": [
    "# Normalize features\n",
    "scaler = StandardScaler()\n",
    "df[['average', 'rolling_mean_24h', 'lag_24h']] = scaler.fit_transform(df[['average', 'rolling_mean_24h', 'lag_24h']])"
   ]
  },
  {
   "cell_type": "code",
   "execution_count": 45,
   "id": "33e0da6a-ea3b-4c02-9233-cc3c9e1187c4",
   "metadata": {},
   "outputs": [],
   "source": [
    "# Save engineered features\n",
    "df.to_csv('engineered_features.csv')"
   ]
  },
  {
   "cell_type": "code",
   "execution_count": null,
   "id": "a9b3a6a3-9bf8-453f-b988-878305cb3989",
   "metadata": {},
   "outputs": [],
   "source": []
  }
 ],
 "metadata": {
  "kernelspec": {
   "display_name": "Python 3 (ipykernel)",
   "language": "python",
   "name": "python3"
  },
  "language_info": {
   "codemirror_mode": {
    "name": "ipython",
    "version": 3
   },
   "file_extension": ".py",
   "mimetype": "text/x-python",
   "name": "python",
   "nbconvert_exporter": "python",
   "pygments_lexer": "ipython3",
   "version": "3.9.6"
  }
 },
 "nbformat": 4,
 "nbformat_minor": 5
}
